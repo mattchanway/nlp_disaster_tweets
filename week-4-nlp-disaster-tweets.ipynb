{
 "cells": [
  {
   "cell_type": "code",
   "execution_count": 1,
   "id": "7de9463d",
   "metadata": {
    "_cell_guid": "b1076dfc-b9ad-4769-8c92-a6c4dae69d19",
    "_uuid": "8f2839f25d086af736a60e9eeb907d3b93b6e0e5",
    "execution": {
     "iopub.execute_input": "2024-10-13T22:25:40.799033Z",
     "iopub.status.busy": "2024-10-13T22:25:40.798598Z",
     "iopub.status.idle": "2024-10-13T22:25:55.891499Z",
     "shell.execute_reply": "2024-10-13T22:25:55.890148Z"
    },
    "papermill": {
     "duration": 15.106048,
     "end_time": "2024-10-13T22:25:55.894045",
     "exception": false,
     "start_time": "2024-10-13T22:25:40.787997",
     "status": "completed"
    },
    "tags": []
   },
   "outputs": [
    {
     "name": "stdout",
     "output_type": "stream",
     "text": [
      "/kaggle/input/nlp-getting-started/sample_submission.csv\n",
      "/kaggle/input/nlp-getting-started/train.csv\n",
      "/kaggle/input/nlp-getting-started/test.csv\n"
     ]
    }
   ],
   "source": [
    "# This Python 3 environment comes with many helpful analytics libraries installed\n",
    "# It is defined by the kaggle/python Docker image: https://github.com/kaggle/docker-python\n",
    "# For example, here's several helpful packages to load\n",
    "\n",
    "import numpy as np # linear algebra\n",
    "import pandas as pd # data processing, CSV file I/O (e.g. pd.read_csv)\n",
    "import tensorflow as tf\n",
    "# Input data files are available in the read-only \"../input/\" directory\n",
    "# For example, running this (by clicking run or pressing Shift+Enter) will list all files under the input directory\n",
    "\n",
    "import os\n",
    "for dirname, _, filenames in os.walk('/kaggle/input'):\n",
    "    for filename in filenames:\n",
    "        print(os.path.join(dirname, filename))\n",
    "\n",
    "# You can write up to 20GB to the current directory (/kaggle/working/) that gets preserved as output when you create a version using \"Save & Run All\" \n",
    "# You can also write temporary files to /kaggle/temp/, but they won't be saved outside of the current session"
   ]
  },
  {
   "cell_type": "code",
   "execution_count": 2,
   "id": "73c3d026",
   "metadata": {
    "execution": {
     "iopub.execute_input": "2024-10-13T22:25:55.912442Z",
     "iopub.status.busy": "2024-10-13T22:25:55.911071Z",
     "iopub.status.idle": "2024-10-13T22:25:55.980832Z",
     "shell.execute_reply": "2024-10-13T22:25:55.979647Z"
    },
    "papermill": {
     "duration": 0.081174,
     "end_time": "2024-10-13T22:25:55.983277",
     "exception": false,
     "start_time": "2024-10-13T22:25:55.902103",
     "status": "completed"
    },
    "tags": []
   },
   "outputs": [
    {
     "name": "stdout",
     "output_type": "stream",
     "text": [
      "26\n"
     ]
    }
   ],
   "source": [
    "train = pd.read_csv('/kaggle/input/nlp-getting-started/train.csv')\n",
    "test = pd.read_csv('/kaggle/input/nlp-getting-started/test.csv')\n",
    "print(test['keyword'].isna().sum())"
   ]
  },
  {
   "cell_type": "markdown",
   "id": "831fef36",
   "metadata": {
    "papermill": {
     "duration": 0.007422,
     "end_time": "2024-10-13T22:25:55.998712",
     "exception": false,
     "start_time": "2024-10-13T22:25:55.991290",
     "status": "completed"
    },
    "tags": []
   },
   "source": [
    "\n",
    "We have 10,000 rows of data, containing a text feature - the text of a tweet. We also have keyword and location features. Our aim is to use the text features to predict if the tweet is describing a disaster, or not - binary classification problem. \n",
    "\n",
    "We have approximately 7600 rows of training data and 3200 rows of test data. We'll have to engineer the text features into numerical features useable for a neural network.\n"
   ]
  },
  {
   "cell_type": "markdown",
   "id": "6c21e4b0",
   "metadata": {
    "papermill": {
     "duration": 0.007382,
     "end_time": "2024-10-13T22:25:56.013872",
     "exception": false,
     "start_time": "2024-10-13T22:25:56.006490",
     "status": "completed"
    },
    "tags": []
   },
   "source": [
    "Immediately, it's evident that a lot of the rows have null values for the Location and Keyword features. We should take a closer look, to see if these features are useable. "
   ]
  },
  {
   "cell_type": "code",
   "execution_count": 3,
   "id": "1f783011",
   "metadata": {
    "execution": {
     "iopub.execute_input": "2024-10-13T22:25:56.031998Z",
     "iopub.status.busy": "2024-10-13T22:25:56.031605Z",
     "iopub.status.idle": "2024-10-13T22:25:56.053712Z",
     "shell.execute_reply": "2024-10-13T22:25:56.051882Z"
    },
    "papermill": {
     "duration": 0.033897,
     "end_time": "2024-10-13T22:25:56.056515",
     "exception": false,
     "start_time": "2024-10-13T22:25:56.022618",
     "status": "completed"
    },
    "tags": []
   },
   "outputs": [
    {
     "name": "stdout",
     "output_type": "stream",
     "text": [
      "Train Location NaN =  2533\n",
      "Train Keyword NaN =  61\n",
      "keyword\n",
      "fatalities               45\n",
      "deluge                   42\n",
      "armageddon               42\n",
      "sinking                  41\n",
      "damage                   41\n",
      "                         ..\n",
      "forest%20fire            19\n",
      "epicentre                12\n",
      "threat                   11\n",
      "inundation               10\n",
      "radiation%20emergency     9\n",
      "Name: count, Length: 221, dtype: int64\n",
      "keyword\n",
      "deluged               23\n",
      "demolished            22\n",
      "rubble                22\n",
      "first%20responders    21\n",
      "seismic               21\n",
      "                      ..\n",
      "threat                 5\n",
      "fatalities             5\n",
      "forest%20fire          5\n",
      "inundation             4\n",
      "epicentre              1\n",
      "Name: count, Length: 221, dtype: int64\n",
      "location\n",
      "USA                    104\n",
      "New York                71\n",
      "United States           50\n",
      "London                  45\n",
      "Canada                  29\n",
      "                      ... \n",
      "MontrÌ©al, QuÌ©bec       1\n",
      "Montreal                 1\n",
      "ÌÏT: 6.4682,3.18287      1\n",
      "Live4Heed??              1\n",
      "Lincoln                  1\n",
      "Name: count, Length: 3341, dtype: int64\n"
     ]
    }
   ],
   "source": [
    "print('Train Location NaN = ', train['location'].isna().sum())\n",
    "print('Train Keyword NaN = ', train['keyword'].isna().sum())\n",
    "print(train['keyword'].value_counts())\n",
    "print(test['keyword'].value_counts())\n",
    "print(train['location'].value_counts())"
   ]
  },
  {
   "cell_type": "markdown",
   "id": "b6c673ad",
   "metadata": {
    "papermill": {
     "duration": 0.007687,
     "end_time": "2024-10-13T22:25:56.083404",
     "exception": false,
     "start_time": "2024-10-13T22:25:56.075717",
     "status": "completed"
    },
    "tags": []
   },
   "source": [
    "In our training data, roughly a third of the data is null with respect to Location. Given that we are dealing with a small dataset as it is, we will drop the location feature."
   ]
  },
  {
   "cell_type": "code",
   "execution_count": 4,
   "id": "253f0603",
   "metadata": {
    "execution": {
     "iopub.execute_input": "2024-10-13T22:25:56.101540Z",
     "iopub.status.busy": "2024-10-13T22:25:56.101115Z",
     "iopub.status.idle": "2024-10-13T22:25:56.115629Z",
     "shell.execute_reply": "2024-10-13T22:25:56.114362Z"
    },
    "papermill": {
     "duration": 0.026504,
     "end_time": "2024-10-13T22:25:56.118189",
     "exception": false,
     "start_time": "2024-10-13T22:25:56.091685",
     "status": "completed"
    },
    "tags": []
   },
   "outputs": [],
   "source": [
    "train = train.drop('location', axis = 1)\n",
    "test = test.drop('location', axis = 1)"
   ]
  },
  {
   "cell_type": "markdown",
   "id": "84b3507b",
   "metadata": {
    "papermill": {
     "duration": 0.007485,
     "end_time": "2024-10-13T22:25:56.133808",
     "exception": false,
     "start_time": "2024-10-13T22:25:56.126323",
     "status": "completed"
    },
    "tags": []
   },
   "source": [
    "We'll remove stopwords from our dataset."
   ]
  },
  {
   "cell_type": "code",
   "execution_count": 5,
   "id": "2ca8f882",
   "metadata": {
    "execution": {
     "iopub.execute_input": "2024-10-13T22:25:56.151546Z",
     "iopub.status.busy": "2024-10-13T22:25:56.151106Z",
     "iopub.status.idle": "2024-10-13T22:25:58.218896Z",
     "shell.execute_reply": "2024-10-13T22:25:58.217753Z"
    },
    "papermill": {
     "duration": 2.080374,
     "end_time": "2024-10-13T22:25:58.221961",
     "exception": false,
     "start_time": "2024-10-13T22:25:56.141587",
     "status": "completed"
    },
    "tags": []
   },
   "outputs": [
    {
     "name": "stdout",
     "output_type": "stream",
     "text": [
      "[nltk_data] Downloading package stopwords to /usr/share/nltk_data...\n",
      "[nltk_data]   Package stopwords is already up-to-date!\n"
     ]
    }
   ],
   "source": [
    "import nltk\n",
    "from nltk.corpus import stopwords\n",
    "\n",
    "\n",
    "nltk.download('stopwords')\n",
    "\n",
    "stop_words = set(stopwords.words('english'))\n",
    "\n",
    "def remove_stopwords(text):\n",
    "    return ' '.join([word for word in text.split() if word.lower() not in stop_words])\n",
    "\n",
    "\n",
    "train['text'] = train['text'].apply(remove_stopwords)\n",
    "test['text'] = test['text'].apply(remove_stopwords)\n"
   ]
  },
  {
   "cell_type": "markdown",
   "id": "58033aeb",
   "metadata": {
    "papermill": {
     "duration": 0.008044,
     "end_time": "2024-10-13T22:25:58.237951",
     "exception": false,
     "start_time": "2024-10-13T22:25:58.229907",
     "status": "completed"
    },
    "tags": []
   },
   "source": [
    "The keyword feature is interesting, and may be too sparse (too many different keywords) to be of great use to us. We will factor it in a little later.\n",
    "\n",
    "Next, we need to convert our text data to numerical features. Tensorflow has functionality to create a Text Vectorization layer, which will map each word in text to a token index. After enough learning with our model, words with a similar meaning should end up represented by a similar vector. \n",
    "\n"
   ]
  },
  {
   "cell_type": "markdown",
   "id": "3ec7e136",
   "metadata": {
    "papermill": {
     "duration": 0.007572,
     "end_time": "2024-10-13T22:25:58.253513",
     "exception": false,
     "start_time": "2024-10-13T22:25:58.245941",
     "status": "completed"
    },
    "tags": []
   },
   "source": [
    "We can use the keras.Sequential method, with the above encoder passed as the initial layer. We'll prepare our dataframe to train the model, and get prepare some visualizations to hopefully get some insights about the data. We'll be creating a text vectorization layer that will learn the vocabulary, and convert each word it learns into a vector."
   ]
  },
  {
   "cell_type": "code",
   "execution_count": 6,
   "id": "17463d2b",
   "metadata": {
    "execution": {
     "iopub.execute_input": "2024-10-13T22:25:58.271397Z",
     "iopub.status.busy": "2024-10-13T22:25:58.270698Z",
     "iopub.status.idle": "2024-10-13T22:25:58.584914Z",
     "shell.execute_reply": "2024-10-13T22:25:58.583567Z"
    },
    "papermill": {
     "duration": 0.326307,
     "end_time": "2024-10-13T22:25:58.587765",
     "exception": false,
     "start_time": "2024-10-13T22:25:58.261458",
     "status": "completed"
    },
    "tags": []
   },
   "outputs": [],
   "source": [
    "train_new = train[['text','target']]\n",
    "test_new = test[['text']]\n",
    "\n",
    "\n",
    "X_train = np.array(train_new['text']) \n",
    "y_train = np.array(train_new['target']) \n",
    "\n",
    "\n",
    "train_dataset = tf.data.Dataset.from_tensor_slices((X_train, y_train))\n",
    "train_dataset = train_dataset.batch(32)\n",
    "\n",
    "\n",
    "X_test = np.array(test_new['text'])\n",
    "test_dataset = tf.data.Dataset.from_tensor_slices(X_test)\n",
    "test_dataset = test_dataset.batch(32)\n",
    "\n",
    "encoder = tf.keras.layers.TextVectorization(max_tokens=10000)\n",
    "\n",
    "encoder.adapt(train['text'].values)"
   ]
  },
  {
   "cell_type": "code",
   "execution_count": 7,
   "id": "8575999f",
   "metadata": {
    "execution": {
     "iopub.execute_input": "2024-10-13T22:25:58.611418Z",
     "iopub.status.busy": "2024-10-13T22:25:58.610493Z",
     "iopub.status.idle": "2024-10-13T22:25:59.144381Z",
     "shell.execute_reply": "2024-10-13T22:25:59.143200Z"
    },
    "papermill": {
     "duration": 0.547435,
     "end_time": "2024-10-13T22:25:59.147303",
     "exception": false,
     "start_time": "2024-10-13T22:25:58.599868",
     "status": "completed"
    },
    "tags": []
   },
   "outputs": [],
   "source": [
    "import pandas as pd\n",
    "import matplotlib.pyplot as plt\n",
    "import seaborn as sns\n",
    "\n",
    "vocab = encoder.get_vocabulary()\n",
    "\n"
   ]
  },
  {
   "cell_type": "code",
   "execution_count": 8,
   "id": "979e0306",
   "metadata": {
    "execution": {
     "iopub.execute_input": "2024-10-13T22:25:59.166174Z",
     "iopub.status.busy": "2024-10-13T22:25:59.165382Z",
     "iopub.status.idle": "2024-10-13T22:25:59.860718Z",
     "shell.execute_reply": "2024-10-13T22:25:59.859591Z"
    },
    "papermill": {
     "duration": 0.707555,
     "end_time": "2024-10-13T22:25:59.863503",
     "exception": false,
     "start_time": "2024-10-13T22:25:59.155948",
     "status": "completed"
    },
    "tags": []
   },
   "outputs": [
    {
     "name": "stdout",
     "output_type": "stream",
     "text": [
      "            word  frequency\n",
      "19         [UNK]      12670\n",
      "127         like        345\n",
      "56            im        299\n",
      "297          amp        298\n",
      "9           fire        250\n",
      "...          ...        ...\n",
      "3414        xela          1\n",
      "3407       tonne          1\n",
      "7400         rnk          1\n",
      "7401  rockingham          1\n",
      "9999    symptoms          1\n",
      "\n",
      "[9999 rows x 2 columns]\n"
     ]
    },
    {
     "data": {
      "image/png": "[encoded data removed]",
      "text/plain": [
       "<Figure size 640x480 with 1 Axes>"
      ]
     },
     "metadata": {},
     "output_type": "display_data"
    }
   ],
   "source": [
    "from collections import Counter\n",
    "\n",
    "tokenized_data = encoder(train_new['text']).numpy()\n",
    "\n",
    "word_indices = np.ravel(tokenized_data)\n",
    "word_counts = Counter(word_indices)\n",
    "\n",
    "vocab = encoder.get_vocabulary()\n",
    "word_freq = {vocab[idx]: count for idx, count in word_counts.items()}\n",
    "word_freq_df = pd.DataFrame(list(word_freq.items()), columns=['word', 'frequency']).sort_values(by='frequency', ascending=False)\n",
    "word_freq_df = word_freq_df[word_freq_df['word'].str.strip() != '']\n",
    "print(word_freq_df)\n",
    "\n",
    "top_words = word_freq_df.head(30)\n",
    "sns.barplot(x='frequency', y='word', data=top_words)\n",
    "plt.title('Top 30 Most Frequent Words')\n",
    "plt.show()"
   ]
  },
  {
   "cell_type": "markdown",
   "id": "909959ca",
   "metadata": {
    "papermill": {
     "duration": 0.00847,
     "end_time": "2024-10-13T22:25:59.881012",
     "exception": false,
     "start_time": "2024-10-13T22:25:59.872542",
     "status": "completed"
    },
    "tags": []
   },
   "source": [
    "UNK represents words that are unknown by the dataset. And, we can see the remaining top 29 words. We started with a vocabulary size of 5000 words, but we will tweak this as well.\n",
    "\n",
    "Below is a histogram of word frequencies. For readability, we have frequency bins on the x-axis, and the number of words fitting into the respective bins on the y-axis.\n",
    "\n"
   ]
  },
  {
   "cell_type": "code",
   "execution_count": 9,
   "id": "c4078fd8",
   "metadata": {
    "execution": {
     "iopub.execute_input": "2024-10-13T22:25:59.900597Z",
     "iopub.status.busy": "2024-10-13T22:25:59.900177Z",
     "iopub.status.idle": "2024-10-13T22:26:00.205964Z",
     "shell.execute_reply": "2024-10-13T22:26:00.204667Z"
    },
    "papermill": {
     "duration": 0.318483,
     "end_time": "2024-10-13T22:26:00.208331",
     "exception": false,
     "start_time": "2024-10-13T22:25:59.889848",
     "status": "completed"
    },
    "tags": []
   },
   "outputs": [
    {
     "data": {
      "image/png": "[encoded data removed]",
      "text/plain": [
       "<Figure size 1200x600 with 1 Axes>"
      ]
     },
     "metadata": {},
     "output_type": "display_data"
    }
   ],
   "source": [
    "word_freq_df['frequency'] = pd.to_numeric(word_freq_df['frequency'], errors='coerce')\n",
    "\n",
    "word_freq_df = word_freq_df.dropna(subset=['frequency'])\n",
    "\n",
    "bins = [0, 1, 5, 10, 20, 50, 100, 200, 500, 1000, 5000]\n",
    "labels = ['0-1', '2-5', '6-10', '11-20', '21-50', '51-100', '101-200', '201-500', '501-1000', '1001+']\n",
    "\n",
    "word_freq_df['frequency_binned'] = pd.cut(word_freq_df['frequency'], bins=bins, labels=labels, right=False)\n",
    "\n",
    "binned_counts = word_freq_df['frequency_binned'].value_counts().sort_index()\n",
    "\n",
    "\n",
    "plt.figure(figsize=(12, 6))\n",
    "binned_counts.plot(kind='bar', color='blue', edgecolor='black')\n",
    "plt.title('Word Frequencies')\n",
    "plt.xlabel('Frequency Ranges')\n",
    "plt.ylabel('Number of Words')\n",
    "plt.grid(axis='y', alpha=0.75)\n",
    "plt.show()"
   ]
  },
  {
   "cell_type": "markdown",
   "id": "70543f0b",
   "metadata": {
    "papermill": {
     "duration": 0.00965,
     "end_time": "2024-10-13T22:26:00.228140",
     "exception": false,
     "start_time": "2024-10-13T22:26:00.218490",
     "status": "completed"
    },
    "tags": []
   },
   "source": [
    "Our word data is qite sparse. Almost half of our learned vocabulary occurs within 2-5 times in the entire dataset. This is one of the challenges associated with having quite a small dataset (10,000 samples total). We will do the best we can."
   ]
  },
  {
   "cell_type": "code",
   "execution_count": 10,
   "id": "7734dc40",
   "metadata": {
    "execution": {
     "iopub.execute_input": "2024-10-13T22:26:00.248484Z",
     "iopub.status.busy": "2024-10-13T22:26:00.248057Z",
     "iopub.status.idle": "2024-10-13T22:26:00.406302Z",
     "shell.execute_reply": "2024-10-13T22:26:00.404997Z"
    },
    "papermill": {
     "duration": 0.171749,
     "end_time": "2024-10-13T22:26:00.409193",
     "exception": false,
     "start_time": "2024-10-13T22:26:00.237444",
     "status": "completed"
    },
    "tags": []
   },
   "outputs": [],
   "source": [
    "\n",
    "\n",
    "\n",
    "model = tf.keras.Sequential([\n",
    "    tf.keras.Input(shape=(1,),dtype=tf.string),\n",
    "    encoder,\n",
    "    tf.keras.layers.Embedding(\n",
    "        input_dim=len(encoder.get_vocabulary()),  \n",
    "        output_dim=64,\n",
    "        mask_zero=True  \n",
    "    ),\n",
    "    tf.keras.layers.Bidirectional(tf.keras.layers.LSTM(64)),\n",
    "    tf.keras.layers.Dense(64, activation='relu'),\n",
    "    tf.keras.layers.Dense(1)  \n",
    "])\n",
    "\n",
    "\n",
    "model.compile(loss=tf.keras.losses.BinaryCrossentropy(from_logits=True),\n",
    "              optimizer=tf.keras.optimizers.Adam(1e-4),\n",
    "              metrics=['accuracy'])\n"
   ]
  },
  {
   "cell_type": "code",
   "execution_count": 11,
   "id": "b812e6e3",
   "metadata": {
    "execution": {
     "iopub.execute_input": "2024-10-13T22:26:00.430642Z",
     "iopub.status.busy": "2024-10-13T22:26:00.430233Z",
     "iopub.status.idle": "2024-10-13T22:26:50.210898Z",
     "shell.execute_reply": "2024-10-13T22:26:50.209632Z"
    },
    "papermill": {
     "duration": 49.794098,
     "end_time": "2024-10-13T22:26:50.213634",
     "exception": false,
     "start_time": "2024-10-13T22:26:00.419536",
     "status": "completed"
    },
    "tags": []
   },
   "outputs": [
    {
     "name": "stdout",
     "output_type": "stream",
     "text": [
      "Epoch 1/10\n",
      "\u001b[1m238/238\u001b[0m \u001b[32m━━━━━━━━━━━━━━━━━━━━\u001b[0m\u001b[37m\u001b[0m \u001b[1m9s\u001b[0m 17ms/step - accuracy: 0.5968 - loss: 0.6897\n",
      "Epoch 2/10\n",
      "\u001b[1m238/238\u001b[0m \u001b[32m━━━━━━━━━━━━━━━━━━━━\u001b[0m\u001b[37m\u001b[0m \u001b[1m4s\u001b[0m 16ms/step - accuracy: 0.5979 - loss: 0.6584\n",
      "Epoch 3/10\n",
      "\u001b[1m238/238\u001b[0m \u001b[32m━━━━━━━━━━━━━━━━━━━━\u001b[0m\u001b[37m\u001b[0m \u001b[1m5s\u001b[0m 17ms/step - accuracy: 0.7989 - loss: 0.4550\n",
      "Epoch 4/10\n",
      "\u001b[1m238/238\u001b[0m \u001b[32m━━━━━━━━━━━━━━━━━━━━\u001b[0m\u001b[37m\u001b[0m \u001b[1m4s\u001b[0m 17ms/step - accuracy: 0.8712 - loss: 0.3281\n",
      "Epoch 5/10\n",
      "\u001b[1m238/238\u001b[0m \u001b[32m━━━━━━━━━━━━━━━━━━━━\u001b[0m\u001b[37m\u001b[0m \u001b[1m4s\u001b[0m 17ms/step - accuracy: 0.9035 - loss: 0.2591\n",
      "Epoch 6/10\n",
      "\u001b[1m238/238\u001b[0m \u001b[32m━━━━━━━━━━━━━━━━━━━━\u001b[0m\u001b[37m\u001b[0m \u001b[1m4s\u001b[0m 18ms/step - accuracy: 0.9232 - loss: 0.2062\n",
      "Epoch 7/10\n",
      "\u001b[1m238/238\u001b[0m \u001b[32m━━━━━━━━━━━━━━━━━━━━\u001b[0m\u001b[37m\u001b[0m \u001b[1m5s\u001b[0m 17ms/step - accuracy: 0.9371 - loss: 0.1815\n",
      "Epoch 8/10\n",
      "\u001b[1m238/238\u001b[0m \u001b[32m━━━━━━━━━━━━━━━━━━━━\u001b[0m\u001b[37m\u001b[0m \u001b[1m4s\u001b[0m 17ms/step - accuracy: 0.9416 - loss: 0.1549\n",
      "Epoch 9/10\n",
      "\u001b[1m238/238\u001b[0m \u001b[32m━━━━━━━━━━━━━━━━━━━━\u001b[0m\u001b[37m\u001b[0m \u001b[1m4s\u001b[0m 16ms/step - accuracy: 0.9529 - loss: 0.1408\n",
      "Epoch 10/10\n",
      "\u001b[1m238/238\u001b[0m \u001b[32m━━━━━━━━━━━━━━━━━━━━\u001b[0m\u001b[37m\u001b[0m \u001b[1m4s\u001b[0m 17ms/step - accuracy: 0.9608 - loss: 0.1156\n",
      "\u001b[1m102/102\u001b[0m \u001b[32m━━━━━━━━━━━━━━━━━━━━\u001b[0m\u001b[37m\u001b[0m \u001b[1m2s\u001b[0m 12ms/step\n"
     ]
    }
   ],
   "source": [
    "\n",
    "\n",
    "\n",
    "history = model.fit(train_dataset, epochs=10)\n",
    "pred = model.predict(X_test)\n",
    "\n",
    "predictions = tf.nn.sigmoid(pred).numpy()\n",
    "\n",
    "binary_predictions = np.where(predictions >= 0.5, 1, 0)\n",
    "\n"
   ]
  },
  {
   "cell_type": "code",
   "execution_count": 12,
   "id": "f4c686a4",
   "metadata": {
    "execution": {
     "iopub.execute_input": "2024-10-13T22:26:50.327471Z",
     "iopub.status.busy": "2024-10-13T22:26:50.327040Z",
     "iopub.status.idle": "2024-10-13T22:26:50.339235Z",
     "shell.execute_reply": "2024-10-13T22:26:50.338177Z"
    },
    "papermill": {
     "duration": 0.072204,
     "end_time": "2024-10-13T22:26:50.342173",
     "exception": false,
     "start_time": "2024-10-13T22:26:50.269969",
     "status": "completed"
    },
    "tags": []
   },
   "outputs": [],
   "source": [
    "\n",
    "ids = test['id']\n",
    "\n",
    "output_df = pd.DataFrame({\n",
    "    'id':ids,\n",
    "    'target': binary_predictions.flatten() \n",
    "})\n",
    "output_file_path = '/kaggle/working/submissionA.csv'\n",
    "output_df.to_csv(output_file_path, index=False)\n"
   ]
  },
  {
   "cell_type": "markdown",
   "id": "a13b7cc1",
   "metadata": {
    "papermill": {
     "duration": 0.055612,
     "end_time": "2024-10-13T22:26:50.453551",
     "exception": false,
     "start_time": "2024-10-13T22:26:50.397939",
     "status": "completed"
    },
    "tags": []
   },
   "source": [
    "For the record, this approach gave us accuracy of 77% on the test data. Can we do better?\n",
    "\n",
    "We'll try experimenting with the vocabulary size, learning rate and a couple of different architectural ideas. First, we'll try increasing the learning rate from 0.0001 to 0.001"
   ]
  },
  {
   "cell_type": "code",
   "execution_count": 13,
   "id": "d0f37bd9",
   "metadata": {
    "execution": {
     "iopub.execute_input": "2024-10-13T22:26:50.566919Z",
     "iopub.status.busy": "2024-10-13T22:26:50.566531Z",
     "iopub.status.idle": "2024-10-13T22:27:35.809197Z",
     "shell.execute_reply": "2024-10-13T22:27:35.808032Z"
    },
    "papermill": {
     "duration": 45.30369,
     "end_time": "2024-10-13T22:27:35.811972",
     "exception": false,
     "start_time": "2024-10-13T22:26:50.508282",
     "status": "completed"
    },
    "tags": []
   },
   "outputs": [
    {
     "name": "stdout",
     "output_type": "stream",
     "text": [
      "Epoch 1/10\n",
      "\u001b[1m238/238\u001b[0m \u001b[32m━━━━━━━━━━━━━━━━━━━━\u001b[0m\u001b[37m\u001b[0m \u001b[1m8s\u001b[0m 15ms/step - accuracy: 0.6128 - loss: 0.6761\n",
      "Epoch 2/10\n",
      "\u001b[1m238/238\u001b[0m \u001b[32m━━━━━━━━━━━━━━━━━━━━\u001b[0m\u001b[37m\u001b[0m \u001b[1m4s\u001b[0m 17ms/step - accuracy: 0.8304 - loss: 0.4076\n",
      "Epoch 3/10\n",
      "\u001b[1m238/238\u001b[0m \u001b[32m━━━━━━━━━━━━━━━━━━━━\u001b[0m\u001b[37m\u001b[0m \u001b[1m5s\u001b[0m 16ms/step - accuracy: 0.8858 - loss: 0.2882\n",
      "Epoch 4/10\n",
      "\u001b[1m238/238\u001b[0m \u001b[32m━━━━━━━━━━━━━━━━━━━━\u001b[0m\u001b[37m\u001b[0m \u001b[1m4s\u001b[0m 16ms/step - accuracy: 0.9077 - loss: 0.2403\n",
      "Epoch 5/10\n",
      "\u001b[1m238/238\u001b[0m \u001b[32m━━━━━━━━━━━━━━━━━━━━\u001b[0m\u001b[37m\u001b[0m \u001b[1m4s\u001b[0m 15ms/step - accuracy: 0.9345 - loss: 0.1701\n",
      "Epoch 6/10\n",
      "\u001b[1m238/238\u001b[0m \u001b[32m━━━━━━━━━━━━━━━━━━━━\u001b[0m\u001b[37m\u001b[0m \u001b[1m4s\u001b[0m 16ms/step - accuracy: 0.9543 - loss: 0.1249\n",
      "Epoch 7/10\n",
      "\u001b[1m238/238\u001b[0m \u001b[32m━━━━━━━━━━━━━━━━━━━━\u001b[0m\u001b[37m\u001b[0m \u001b[1m4s\u001b[0m 16ms/step - accuracy: 0.9595 - loss: 0.1069\n",
      "Epoch 8/10\n",
      "\u001b[1m238/238\u001b[0m \u001b[32m━━━━━━━━━━━━━━━━━━━━\u001b[0m\u001b[37m\u001b[0m \u001b[1m4s\u001b[0m 16ms/step - accuracy: 0.9688 - loss: 0.0760\n",
      "Epoch 9/10\n",
      "\u001b[1m238/238\u001b[0m \u001b[32m━━━━━━━━━━━━━━━━━━━━\u001b[0m\u001b[37m\u001b[0m \u001b[1m4s\u001b[0m 16ms/step - accuracy: 0.9761 - loss: 0.0616\n",
      "Epoch 10/10\n",
      "\u001b[1m238/238\u001b[0m \u001b[32m━━━━━━━━━━━━━━━━━━━━\u001b[0m\u001b[37m\u001b[0m \u001b[1m4s\u001b[0m 16ms/step - accuracy: 0.9766 - loss: 0.0484\n",
      "\u001b[1m102/102\u001b[0m \u001b[32m━━━━━━━━━━━━━━━━━━━━\u001b[0m\u001b[37m\u001b[0m \u001b[1m2s\u001b[0m 11ms/step\n"
     ]
    }
   ],
   "source": [
    "encoder = tf.keras.layers.TextVectorization(max_tokens=5000)\n",
    "\n",
    "encoder.adapt(train['text'].values)\n",
    "\n",
    "model = tf.keras.Sequential([\n",
    "    tf.keras.Input(shape=(1,),dtype=tf.string),\n",
    "    encoder,\n",
    "    tf.keras.layers.Embedding(\n",
    "        input_dim=len(encoder.get_vocabulary()),  \n",
    "        output_dim=64,\n",
    "        mask_zero=True  \n",
    "    ),\n",
    "    tf.keras.layers.Bidirectional(tf.keras.layers.LSTM(64)),\n",
    "    tf.keras.layers.Dense(64, activation='relu'),\n",
    "    tf.keras.layers.Dense(1) \n",
    "])\n",
    "\n",
    "model.compile(loss=tf.keras.losses.BinaryCrossentropy(from_logits=True),\n",
    "              optimizer=tf.keras.optimizers.Adam(learning_rate=0.001),\n",
    "              metrics=['accuracy'])\n",
    "\n",
    "history = model.fit(train_dataset, epochs=10)\n",
    "pred = model.predict(X_test)\n",
    "\n",
    "predictions = tf.nn.sigmoid(pred).numpy()\n",
    "\n",
    "binary_predictions = np.where(predictions >= 0.5, 1, 0)\n",
    "\n",
    "ids = test['id']\n",
    "\n",
    "output_df = pd.DataFrame({\n",
    "    'id':ids,\n",
    "    'target': binary_predictions.flatten()\n",
    "})\n",
    "output_file_path = '/kaggle/working/submissionB.csv'\n",
    "output_df.to_csv(output_file_path, index=False)"
   ]
  },
  {
   "cell_type": "markdown",
   "id": "764f4b4e",
   "metadata": {
    "papermill": {
     "duration": 0.102592,
     "end_time": "2024-10-13T22:27:36.014137",
     "exception": false,
     "start_time": "2024-10-13T22:27:35.911545",
     "status": "completed"
    },
    "tags": []
   },
   "source": [
    "Let's try increasing the vocabulary from a maximum size of 5000, to a maximum size of 10000. Maintaining the same learning rate."
   ]
  },
  {
   "cell_type": "code",
   "execution_count": 14,
   "id": "09dcb729",
   "metadata": {
    "execution": {
     "iopub.execute_input": "2024-10-13T22:27:36.217115Z",
     "iopub.status.busy": "2024-10-13T22:27:36.216672Z",
     "iopub.status.idle": "2024-10-13T22:28:25.749730Z",
     "shell.execute_reply": "2024-10-13T22:28:25.748271Z"
    },
    "papermill": {
     "duration": 49.639115,
     "end_time": "2024-10-13T22:28:25.752365",
     "exception": false,
     "start_time": "2024-10-13T22:27:36.113250",
     "status": "completed"
    },
    "tags": []
   },
   "outputs": [
    {
     "name": "stdout",
     "output_type": "stream",
     "text": [
      "Epoch 1/10\n",
      "\u001b[1m238/238\u001b[0m \u001b[32m━━━━━━━━━━━━━━━━━━━━\u001b[0m\u001b[37m\u001b[0m \u001b[1m9s\u001b[0m 17ms/step - accuracy: 0.6268 - loss: 0.6607\n",
      "Epoch 2/10\n",
      "\u001b[1m238/238\u001b[0m \u001b[32m━━━━━━━━━━━━━━━━━━━━\u001b[0m\u001b[37m\u001b[0m \u001b[1m4s\u001b[0m 17ms/step - accuracy: 0.8443 - loss: 0.3663\n",
      "Epoch 3/10\n",
      "\u001b[1m238/238\u001b[0m \u001b[32m━━━━━━━━━━━━━━━━━━━━\u001b[0m\u001b[37m\u001b[0m \u001b[1m4s\u001b[0m 17ms/step - accuracy: 0.9174 - loss: 0.2154\n",
      "Epoch 4/10\n",
      "\u001b[1m238/238\u001b[0m \u001b[32m━━━━━━━━━━━━━━━━━━━━\u001b[0m\u001b[37m\u001b[0m \u001b[1m5s\u001b[0m 17ms/step - accuracy: 0.9457 - loss: 0.1579\n",
      "Epoch 5/10\n",
      "\u001b[1m238/238\u001b[0m \u001b[32m━━━━━━━━━━━━━━━━━━━━\u001b[0m\u001b[37m\u001b[0m \u001b[1m4s\u001b[0m 17ms/step - accuracy: 0.9585 - loss: 0.1291\n",
      "Epoch 6/10\n",
      "\u001b[1m238/238\u001b[0m \u001b[32m━━━━━━━━━━━━━━━━━━━━\u001b[0m\u001b[37m\u001b[0m \u001b[1m5s\u001b[0m 19ms/step - accuracy: 0.9666 - loss: 0.0807\n",
      "Epoch 7/10\n",
      "\u001b[1m238/238\u001b[0m \u001b[32m━━━━━━━━━━━━━━━━━━━━\u001b[0m\u001b[37m\u001b[0m \u001b[1m4s\u001b[0m 17ms/step - accuracy: 0.9751 - loss: 0.0551\n",
      "Epoch 8/10\n",
      "\u001b[1m238/238\u001b[0m \u001b[32m━━━━━━━━━━━━━━━━━━━━\u001b[0m\u001b[37m\u001b[0m \u001b[1m4s\u001b[0m 17ms/step - accuracy: 0.9794 - loss: 0.0443\n",
      "Epoch 9/10\n",
      "\u001b[1m238/238\u001b[0m \u001b[32m━━━━━━━━━━━━━━━━━━━━\u001b[0m\u001b[37m\u001b[0m \u001b[1m5s\u001b[0m 17ms/step - accuracy: 0.9801 - loss: 0.0370\n",
      "Epoch 10/10\n",
      "\u001b[1m238/238\u001b[0m \u001b[32m━━━━━━━━━━━━━━━━━━━━\u001b[0m\u001b[37m\u001b[0m \u001b[1m4s\u001b[0m 17ms/step - accuracy: 0.9824 - loss: 0.0310\n",
      "\u001b[1m102/102\u001b[0m \u001b[32m━━━━━━━━━━━━━━━━━━━━\u001b[0m\u001b[37m\u001b[0m \u001b[1m1s\u001b[0m 9ms/step\n"
     ]
    }
   ],
   "source": [
    "encoder = tf.keras.layers.TextVectorization(max_tokens=10000)\n",
    "\n",
    "encoder.adapt(train['text'].values)\n",
    "\n",
    "model = tf.keras.Sequential([\n",
    "    tf.keras.Input(shape=(1,),dtype=tf.string),\n",
    "    encoder,\n",
    "    tf.keras.layers.Embedding(\n",
    "        input_dim=len(encoder.get_vocabulary()), \n",
    "        output_dim=64,\n",
    "        mask_zero=True  \n",
    "    ),\n",
    "    tf.keras.layers.Bidirectional(tf.keras.layers.LSTM(64)),\n",
    "    tf.keras.layers.Dense(64, activation='relu'),\n",
    "    tf.keras.layers.Dense(1)  \n",
    "])\n",
    "\n",
    "model.compile(loss=tf.keras.losses.BinaryCrossentropy(from_logits=True),\n",
    "              optimizer=tf.keras.optimizers.Adam(learning_rate=0.001),\n",
    "              metrics=['accuracy'])\n",
    "\n",
    "history = model.fit(train_dataset, epochs=10)\n",
    "pred = model.predict(X_test)\n",
    "\n",
    "predictions = tf.nn.sigmoid(pred).numpy()\n",
    "\n",
    "binary_predictions = np.where(predictions >= 0.5, 1, 0)\n",
    "\n",
    "ids = test['id']\n",
    "\n",
    "output_df = pd.DataFrame({\n",
    "    'id':ids,\n",
    "    'target': binary_predictions.flatten()  \n",
    "})\n",
    "output_file_path = '/kaggle/working/submissionC.csv'\n",
    "output_df.to_csv(output_file_path, index=False)"
   ]
  },
  {
   "cell_type": "markdown",
   "id": "26dcc421",
   "metadata": {
    "papermill": {
     "duration": 0.147655,
     "end_time": "2024-10-13T22:28:26.047269",
     "exception": false,
     "start_time": "2024-10-13T22:28:25.899614",
     "status": "completed"
    },
    "tags": []
   },
   "source": [
    "Let's try decreasing the learning rate, to our original 0.0001, maintaining 10000 max vocab size."
   ]
  },
  {
   "cell_type": "code",
   "execution_count": 15,
   "id": "df1b0190",
   "metadata": {
    "execution": {
     "iopub.execute_input": "2024-10-13T22:28:26.346279Z",
     "iopub.status.busy": "2024-10-13T22:28:26.345812Z",
     "iopub.status.idle": "2024-10-13T22:29:15.417712Z",
     "shell.execute_reply": "2024-10-13T22:29:15.416418Z"
    },
    "papermill": {
     "duration": 49.223327,
     "end_time": "2024-10-13T22:29:15.420293",
     "exception": false,
     "start_time": "2024-10-13T22:28:26.196966",
     "status": "completed"
    },
    "tags": []
   },
   "outputs": [
    {
     "name": "stdout",
     "output_type": "stream",
     "text": [
      "Epoch 1/10\n",
      "\u001b[1m238/238\u001b[0m \u001b[32m━━━━━━━━━━━━━━━━━━━━\u001b[0m\u001b[37m\u001b[0m \u001b[1m9s\u001b[0m 17ms/step - accuracy: 0.5968 - loss: 0.6901\n",
      "Epoch 2/10\n",
      "\u001b[1m238/238\u001b[0m \u001b[32m━━━━━━━━━━━━━━━━━━━━\u001b[0m\u001b[37m\u001b[0m \u001b[1m5s\u001b[0m 19ms/step - accuracy: 0.5972 - loss: 0.6613\n",
      "Epoch 3/10\n",
      "\u001b[1m238/238\u001b[0m \u001b[32m━━━━━━━━━━━━━━━━━━━━\u001b[0m\u001b[37m\u001b[0m \u001b[1m4s\u001b[0m 17ms/step - accuracy: 0.7850 - loss: 0.4684\n",
      "Epoch 4/10\n",
      "\u001b[1m238/238\u001b[0m \u001b[32m━━━━━━━━━━━━━━━━━━━━\u001b[0m\u001b[37m\u001b[0m \u001b[1m4s\u001b[0m 17ms/step - accuracy: 0.8713 - loss: 0.3329\n",
      "Epoch 5/10\n",
      "\u001b[1m238/238\u001b[0m \u001b[32m━━━━━━━━━━━━━━━━━━━━\u001b[0m\u001b[37m\u001b[0m \u001b[1m4s\u001b[0m 17ms/step - accuracy: 0.9049 - loss: 0.2607\n",
      "Epoch 6/10\n",
      "\u001b[1m238/238\u001b[0m \u001b[32m━━━━━━━━━━━━━━━━━━━━\u001b[0m\u001b[37m\u001b[0m \u001b[1m4s\u001b[0m 17ms/step - accuracy: 0.9263 - loss: 0.2081\n",
      "Epoch 7/10\n",
      "\u001b[1m238/238\u001b[0m \u001b[32m━━━━━━━━━━━━━━━━━━━━\u001b[0m\u001b[37m\u001b[0m \u001b[1m5s\u001b[0m 17ms/step - accuracy: 0.9394 - loss: 0.1739\n",
      "Epoch 8/10\n",
      "\u001b[1m238/238\u001b[0m \u001b[32m━━━━━━━━━━━━━━━━━━━━\u001b[0m\u001b[37m\u001b[0m \u001b[1m4s\u001b[0m 17ms/step - accuracy: 0.9503 - loss: 0.1539\n",
      "Epoch 9/10\n",
      "\u001b[1m238/238\u001b[0m \u001b[32m━━━━━━━━━━━━━━━━━━━━\u001b[0m\u001b[37m\u001b[0m \u001b[1m4s\u001b[0m 17ms/step - accuracy: 0.9534 - loss: 0.1282\n",
      "Epoch 10/10\n",
      "\u001b[1m238/238\u001b[0m \u001b[32m━━━━━━━━━━━━━━━━━━━━\u001b[0m\u001b[37m\u001b[0m \u001b[1m4s\u001b[0m 19ms/step - accuracy: 0.9566 - loss: 0.1276\n",
      "\u001b[1m102/102\u001b[0m \u001b[32m━━━━━━━━━━━━━━━━━━━━\u001b[0m\u001b[37m\u001b[0m \u001b[1m1s\u001b[0m 9ms/step\n"
     ]
    }
   ],
   "source": [
    "encoder = tf.keras.layers.TextVectorization(max_tokens=10000)\n",
    "encoder.adapt(train['text'].values)\n",
    "\n",
    "model = tf.keras.Sequential([\n",
    "    tf.keras.Input(shape=(1,),dtype=tf.string),\n",
    "    encoder,\n",
    "    tf.keras.layers.Embedding(\n",
    "        input_dim=len(encoder.get_vocabulary()), \n",
    "        output_dim=64,\n",
    "        mask_zero=True  \n",
    "    ),\n",
    "    tf.keras.layers.Bidirectional(tf.keras.layers.LSTM(64)),\n",
    "    tf.keras.layers.Dense(64, activation='relu'),\n",
    "    tf.keras.layers.Dense(1)  # For binary classification\n",
    "])\n",
    "\n",
    "\n",
    "model.compile(loss=tf.keras.losses.BinaryCrossentropy(from_logits=True),\n",
    "              optimizer=tf.keras.optimizers.Adam(learning_rate=0.0001),\n",
    "              metrics=['accuracy'])\n",
    "\n",
    "history = model.fit(train_dataset, epochs=10)\n",
    "pred = model.predict(X_test)\n",
    "\n",
    "predictions = tf.nn.sigmoid(pred).numpy()\n",
    "\n",
    "binary_predictions = np.where(predictions >= 0.5, 1, 0)\n",
    "\n",
    "ids = test['id']\n",
    "\n",
    "output_df = pd.DataFrame({\n",
    "    'id':ids,\n",
    "    'target': binary_predictions.flatten() \n",
    "})\n",
    "output_file_path = '/kaggle/working/submissionD.csv'\n",
    "output_df.to_csv(output_file_path, index=False)"
   ]
  },
  {
   "cell_type": "markdown",
   "id": "42720080",
   "metadata": {
    "papermill": {
     "duration": 0.196438,
     "end_time": "2024-10-13T22:29:15.818193",
     "exception": false,
     "start_time": "2024-10-13T22:29:15.621755",
     "status": "completed"
    },
    "tags": []
   },
   "source": [
    "Let's experiment with adding an additional Bidirectional layer."
   ]
  },
  {
   "cell_type": "code",
   "execution_count": 16,
   "id": "dd564653",
   "metadata": {
    "execution": {
     "iopub.execute_input": "2024-10-13T22:29:16.212771Z",
     "iopub.status.busy": "2024-10-13T22:29:16.212360Z",
     "iopub.status.idle": "2024-10-13T22:30:41.194184Z",
     "shell.execute_reply": "2024-10-13T22:30:41.193053Z"
    },
    "papermill": {
     "duration": 85.182988,
     "end_time": "2024-10-13T22:30:41.196696",
     "exception": false,
     "start_time": "2024-10-13T22:29:16.013708",
     "status": "completed"
    },
    "tags": []
   },
   "outputs": [
    {
     "name": "stdout",
     "output_type": "stream",
     "text": [
      "Epoch 1/10\n",
      "\u001b[1m238/238\u001b[0m \u001b[32m━━━━━━━━━━━━━━━━━━━━\u001b[0m\u001b[37m\u001b[0m \u001b[1m15s\u001b[0m 29ms/step - accuracy: 0.5968 - loss: 0.6900\n",
      "Epoch 2/10\n",
      "\u001b[1m238/238\u001b[0m \u001b[32m━━━━━━━━━━━━━━━━━━━━\u001b[0m\u001b[37m\u001b[0m \u001b[1m7s\u001b[0m 29ms/step - accuracy: 0.6093 - loss: 0.6515\n",
      "Epoch 3/10\n",
      "\u001b[1m238/238\u001b[0m \u001b[32m━━━━━━━━━━━━━━━━━━━━\u001b[0m\u001b[37m\u001b[0m \u001b[1m7s\u001b[0m 31ms/step - accuracy: 0.8163 - loss: 0.4468\n",
      "Epoch 4/10\n",
      "\u001b[1m238/238\u001b[0m \u001b[32m━━━━━━━━━━━━━━━━━━━━\u001b[0m\u001b[37m\u001b[0m \u001b[1m7s\u001b[0m 30ms/step - accuracy: 0.8635 - loss: 0.3531\n",
      "Epoch 5/10\n",
      "\u001b[1m238/238\u001b[0m \u001b[32m━━━━━━━━━━━━━━━━━━━━\u001b[0m\u001b[37m\u001b[0m \u001b[1m7s\u001b[0m 29ms/step - accuracy: 0.8820 - loss: 0.3018\n",
      "Epoch 6/10\n",
      "\u001b[1m238/238\u001b[0m \u001b[32m━━━━━━━━━━━━━━━━━━━━\u001b[0m\u001b[37m\u001b[0m \u001b[1m7s\u001b[0m 30ms/step - accuracy: 0.9038 - loss: 0.2611\n",
      "Epoch 7/10\n",
      "\u001b[1m238/238\u001b[0m \u001b[32m━━━━━━━━━━━━━━━━━━━━\u001b[0m\u001b[37m\u001b[0m \u001b[1m7s\u001b[0m 29ms/step - accuracy: 0.9166 - loss: 0.2292\n",
      "Epoch 8/10\n",
      "\u001b[1m238/238\u001b[0m \u001b[32m━━━━━━━━━━━━━━━━━━━━\u001b[0m\u001b[37m\u001b[0m \u001b[1m8s\u001b[0m 32ms/step - accuracy: 0.9248 - loss: 0.2044\n",
      "Epoch 9/10\n",
      "\u001b[1m238/238\u001b[0m \u001b[32m━━━━━━━━━━━━━━━━━━━━\u001b[0m\u001b[37m\u001b[0m \u001b[1m7s\u001b[0m 29ms/step - accuracy: 0.9306 - loss: 0.1869\n",
      "Epoch 10/10\n",
      "\u001b[1m238/238\u001b[0m \u001b[32m━━━━━━━━━━━━━━━━━━━━\u001b[0m\u001b[37m\u001b[0m \u001b[1m7s\u001b[0m 29ms/step - accuracy: 0.9330 - loss: 0.1836\n",
      "\u001b[1m102/102\u001b[0m \u001b[32m━━━━━━━━━━━━━━━━━━━━\u001b[0m\u001b[37m\u001b[0m \u001b[1m2s\u001b[0m 16ms/step\n"
     ]
    }
   ],
   "source": [
    "encoder = tf.keras.layers.TextVectorization(max_tokens=5000)\n",
    "encoder.adapt(train['text'].values)\n",
    "\n",
    "model = tf.keras.Sequential([\n",
    "    tf.keras.Input(shape=(1,),dtype=tf.string),\n",
    "    encoder,\n",
    "    tf.keras.layers.Embedding(\n",
    "        input_dim=len(encoder.get_vocabulary()),  \n",
    "        output_dim=64,\n",
    "        mask_zero=True \n",
    "    ),\n",
    "    tf.keras.layers.Bidirectional(tf.keras.layers.LSTM(64, return_sequences=True)),\n",
    "    tf.keras.layers.Bidirectional(tf.keras.layers.LSTM(64)),\n",
    "    tf.keras.layers.Dense(64, activation='relu'),\n",
    "    tf.keras.layers.Dense(1) \n",
    "])\n",
    "\n",
    "\n",
    "model.compile(loss=tf.keras.losses.BinaryCrossentropy(from_logits=True),\n",
    "              optimizer=tf.keras.optimizers.Adam(learning_rate=0.0001),\n",
    "              metrics=['accuracy'])\n",
    "\n",
    "history = model.fit(train_dataset, epochs=10)\n",
    "pred = model.predict(X_test)\n",
    "\n",
    "predictions = tf.nn.sigmoid(pred).numpy()\n",
    "\n",
    "binary_predictions = np.where(predictions >= 0.5, 1, 0)\n",
    "\n",
    "ids = test['id']\n",
    "\n",
    "output_df = pd.DataFrame({\n",
    "    'id':ids,\n",
    "    'target': binary_predictions.flatten() \n",
    "})\n",
    "output_file_path = '/kaggle/working/submissionE.csv'\n",
    "output_df.to_csv(output_file_path, index=False)"
   ]
  },
  {
   "cell_type": "markdown",
   "id": "cddea149",
   "metadata": {
    "papermill": {
     "duration": 0.284497,
     "end_time": "2024-10-13T22:30:41.821391",
     "exception": false,
     "start_time": "2024-10-13T22:30:41.536894",
     "status": "completed"
    },
    "tags": []
   },
   "source": [
    "Let's revisit our original parameters, but use GRU's. They work well with smaller datasets."
   ]
  },
  {
   "cell_type": "code",
   "execution_count": 17,
   "id": "207ba4f2",
   "metadata": {
    "execution": {
     "iopub.execute_input": "2024-10-13T22:30:42.383782Z",
     "iopub.status.busy": "2024-10-13T22:30:42.382638Z",
     "iopub.status.idle": "2024-10-13T22:31:33.612525Z",
     "shell.execute_reply": "2024-10-13T22:31:33.611175Z"
    },
    "papermill": {
     "duration": 51.515526,
     "end_time": "2024-10-13T22:31:33.615304",
     "exception": false,
     "start_time": "2024-10-13T22:30:42.099778",
     "status": "completed"
    },
    "tags": []
   },
   "outputs": [
    {
     "name": "stdout",
     "output_type": "stream",
     "text": [
      "Epoch 1/10\n",
      "\u001b[1m238/238\u001b[0m \u001b[32m━━━━━━━━━━━━━━━━━━━━\u001b[0m\u001b[37m\u001b[0m \u001b[1m9s\u001b[0m 16ms/step - accuracy: 0.5968 - loss: 0.6891\n",
      "Epoch 2/10\n",
      "\u001b[1m238/238\u001b[0m \u001b[32m━━━━━━━━━━━━━━━━━━━━\u001b[0m\u001b[37m\u001b[0m \u001b[1m4s\u001b[0m 16ms/step - accuracy: 0.5968 - loss: 0.6660\n",
      "Epoch 3/10\n",
      "\u001b[1m238/238\u001b[0m \u001b[32m━━━━━━━━━━━━━━━━━━━━\u001b[0m\u001b[37m\u001b[0m \u001b[1m4s\u001b[0m 16ms/step - accuracy: 0.6564 - loss: 0.5786\n",
      "Epoch 4/10\n",
      "\u001b[1m238/238\u001b[0m \u001b[32m━━━━━━━━━━━━━━━━━━━━\u001b[0m\u001b[37m\u001b[0m \u001b[1m4s\u001b[0m 16ms/step - accuracy: 0.8358 - loss: 0.3903\n",
      "Epoch 5/10\n",
      "\u001b[1m238/238\u001b[0m \u001b[32m━━━━━━━━━━━━━━━━━━━━\u001b[0m\u001b[37m\u001b[0m \u001b[1m4s\u001b[0m 16ms/step - accuracy: 0.8706 - loss: 0.3174\n",
      "Epoch 6/10\n",
      "\u001b[1m238/238\u001b[0m \u001b[32m━━━━━━━━━━━━━━━━━━━━\u001b[0m\u001b[37m\u001b[0m \u001b[1m5s\u001b[0m 17ms/step - accuracy: 0.8882 - loss: 0.2754\n",
      "Epoch 7/10\n",
      "\u001b[1m238/238\u001b[0m \u001b[32m━━━━━━━━━━━━━━━━━━━━\u001b[0m\u001b[37m\u001b[0m \u001b[1m5s\u001b[0m 17ms/step - accuracy: 0.9030 - loss: 0.2419\n",
      "Epoch 8/10\n",
      "\u001b[1m238/238\u001b[0m \u001b[32m━━━━━━━━━━━━━━━━━━━━\u001b[0m\u001b[37m\u001b[0m \u001b[1m5s\u001b[0m 16ms/step - accuracy: 0.9120 - loss: 0.2142\n",
      "Epoch 9/10\n",
      "\u001b[1m238/238\u001b[0m \u001b[32m━━━━━━━━━━━━━━━━━━━━\u001b[0m\u001b[37m\u001b[0m \u001b[1m5s\u001b[0m 16ms/step - accuracy: 0.9242 - loss: 0.1906\n",
      "Epoch 10/10\n",
      "\u001b[1m238/238\u001b[0m \u001b[32m━━━━━━━━━━━━━━━━━━━━\u001b[0m\u001b[37m\u001b[0m \u001b[1m4s\u001b[0m 16ms/step - accuracy: 0.9316 - loss: 0.1720\n",
      "\u001b[1m102/102\u001b[0m \u001b[32m━━━━━━━━━━━━━━━━━━━━\u001b[0m\u001b[37m\u001b[0m \u001b[1m2s\u001b[0m 10ms/step\n"
     ]
    }
   ],
   "source": [
    "encoder = tf.keras.layers.TextVectorization(max_tokens=5000)\n",
    "encoder.adapt(train['text'].values)\n",
    "\n",
    "model = tf.keras.Sequential([\n",
    "    tf.keras.Input(shape=(1,),dtype=tf.string),\n",
    "    encoder,\n",
    "    tf.keras.layers.Embedding(\n",
    "        input_dim=len(encoder.get_vocabulary()), \n",
    "        output_dim=64,\n",
    "        mask_zero=True  \n",
    "    ),\n",
    "    tf.keras.layers.Bidirectional(tf.keras.layers.GRU(64)),\n",
    "    tf.keras.layers.Dense(64, activation='relu'),\n",
    "    tf.keras.layers.Dense(1)  \n",
    "])\n",
    "\n",
    "model.compile(loss=tf.keras.losses.BinaryCrossentropy(from_logits=True),\n",
    "              optimizer=tf.keras.optimizers.Adam(learning_rate=0.0001),\n",
    "              metrics=['accuracy'])\n",
    "\n",
    "history = model.fit(train_dataset, epochs=10)\n",
    "pred = model.predict(X_test)\n",
    "\n",
    "predictions = tf.nn.sigmoid(pred).numpy()\n",
    "\n",
    "binary_predictions = np.where(predictions >= 0.5, 1, 0)\n",
    "\n",
    "ids = test['id']\n",
    "\n",
    "output_df = pd.DataFrame({\n",
    "    'id':ids,\n",
    "    'target': binary_predictions.flatten()  \n",
    "})\n",
    "output_file_path = '/kaggle/working/submissionF.csv'\n",
    "output_df.to_csv(output_file_path, index=False)"
   ]
  },
  {
   "cell_type": "markdown",
   "id": "31a625c9",
   "metadata": {
    "papermill": {
     "duration": 0.390096,
     "end_time": "2024-10-13T22:31:34.332259",
     "exception": false,
     "start_time": "2024-10-13T22:31:33.942163",
     "status": "completed"
    },
    "tags": []
   },
   "source": [
    "Let's try trimming our vocabulary size to 2000, and see if we get better results that way."
   ]
  },
  {
   "cell_type": "code",
   "execution_count": 18,
   "id": "8c76ed32",
   "metadata": {
    "execution": {
     "iopub.execute_input": "2024-10-13T22:31:34.984622Z",
     "iopub.status.busy": "2024-10-13T22:31:34.984193Z",
     "iopub.status.idle": "2024-10-13T22:33:03.245499Z",
     "shell.execute_reply": "2024-10-13T22:33:03.244176Z"
    },
    "papermill": {
     "duration": 88.590069,
     "end_time": "2024-10-13T22:33:03.248570",
     "exception": false,
     "start_time": "2024-10-13T22:31:34.658501",
     "status": "completed"
    },
    "tags": []
   },
   "outputs": [
    {
     "name": "stdout",
     "output_type": "stream",
     "text": [
      "Epoch 1/10\n",
      "\u001b[1m238/238\u001b[0m \u001b[32m━━━━━━━━━━━━━━━━━━━━\u001b[0m\u001b[37m\u001b[0m \u001b[1m16s\u001b[0m 32ms/step - accuracy: 0.5968 - loss: 0.6894\n",
      "Epoch 2/10\n",
      "\u001b[1m238/238\u001b[0m \u001b[32m━━━━━━━━━━━━━━━━━━━━\u001b[0m\u001b[37m\u001b[0m \u001b[1m7s\u001b[0m 30ms/step - accuracy: 0.5982 - loss: 0.6666\n",
      "Epoch 3/10\n",
      "\u001b[1m238/238\u001b[0m \u001b[32m━━━━━━━━━━━━━━━━━━━━\u001b[0m\u001b[37m\u001b[0m \u001b[1m7s\u001b[0m 30ms/step - accuracy: 0.7804 - loss: 0.4876\n",
      "Epoch 4/10\n",
      "\u001b[1m238/238\u001b[0m \u001b[32m━━━━━━━━━━━━━━━━━━━━\u001b[0m\u001b[37m\u001b[0m \u001b[1m7s\u001b[0m 30ms/step - accuracy: 0.8295 - loss: 0.4026\n",
      "Epoch 5/10\n",
      "\u001b[1m238/238\u001b[0m \u001b[32m━━━━━━━━━━━━━━━━━━━━\u001b[0m\u001b[37m\u001b[0m \u001b[1m7s\u001b[0m 30ms/step - accuracy: 0.8493 - loss: 0.3671\n",
      "Epoch 6/10\n",
      "\u001b[1m238/238\u001b[0m \u001b[32m━━━━━━━━━━━━━━━━━━━━\u001b[0m\u001b[37m\u001b[0m \u001b[1m10s\u001b[0m 30ms/step - accuracy: 0.8627 - loss: 0.3430\n",
      "Epoch 7/10\n",
      "\u001b[1m238/238\u001b[0m \u001b[32m━━━━━━━━━━━━━━━━━━━━\u001b[0m\u001b[37m\u001b[0m \u001b[1m7s\u001b[0m 31ms/step - accuracy: 0.8739 - loss: 0.3244\n",
      "Epoch 8/10\n",
      "\u001b[1m238/238\u001b[0m \u001b[32m━━━━━━━━━━━━━━━━━━━━\u001b[0m\u001b[37m\u001b[0m \u001b[1m7s\u001b[0m 30ms/step - accuracy: 0.8849 - loss: 0.3077\n",
      "Epoch 9/10\n",
      "\u001b[1m238/238\u001b[0m \u001b[32m━━━━━━━━━━━━━━━━━━━━\u001b[0m\u001b[37m\u001b[0m \u001b[1m7s\u001b[0m 30ms/step - accuracy: 0.8928 - loss: 0.2932\n",
      "Epoch 10/10\n",
      "\u001b[1m238/238\u001b[0m \u001b[32m━━━━━━━━━━━━━━━━━━━━\u001b[0m\u001b[37m\u001b[0m \u001b[1m8s\u001b[0m 32ms/step - accuracy: 0.8969 - loss: 0.2812\n",
      "\u001b[1m102/102\u001b[0m \u001b[32m━━━━━━━━━━━━━━━━━━━━\u001b[0m\u001b[37m\u001b[0m \u001b[1m4s\u001b[0m 18ms/step\n"
     ]
    }
   ],
   "source": [
    "encoder = tf.keras.layers.TextVectorization(max_tokens=2000)\n",
    "\n",
    "train['keyword'] = train['keyword'].fillna('NA')\n",
    "test['keyword'] = test['keyword'].fillna('NA')\n",
    "\n",
    "train['concatenated_text'] = train['keyword'] + ' ' + train['text']\n",
    "test['concatenated_text'] = test['keyword'] + ' ' + test['text']\n",
    "encoder.adapt(train['text'].values)\n",
    "\n",
    "X_train = np.array(train['concatenated_text']) \n",
    "y_train = np.array(train['target']) \n",
    "\n",
    "train_dataset = tf.data.Dataset.from_tensor_slices((X_train, y_train))\n",
    "train_dataset = train_dataset.batch(32)\n",
    "\n",
    "\n",
    "X_test = np.array(test['concatenated_text'])\n",
    "test_dataset = tf.data.Dataset.from_tensor_slices(X_test)\n",
    "test_dataset = test_dataset.batch(32)\n",
    "\n",
    "model = tf.keras.Sequential([\n",
    "    tf.keras.Input(shape=(1,),dtype=tf.string),\n",
    "    encoder,\n",
    "    tf.keras.layers.Embedding(\n",
    "        input_dim=len(encoder.get_vocabulary()),  \n",
    "        output_dim=64,\n",
    "        mask_zero=True \n",
    "    ),\n",
    "    tf.keras.layers.Bidirectional(tf.keras.layers.LSTM(64, return_sequences=True)),\n",
    "    tf.keras.layers.Bidirectional(tf.keras.layers.LSTM(64)),\n",
    "    tf.keras.layers.Dense(64, activation='relu'),\n",
    "    tf.keras.layers.Dense(1)  \n",
    "])\n",
    "\n",
    "model.compile(loss=tf.keras.losses.BinaryCrossentropy(from_logits=True),\n",
    "              optimizer=tf.keras.optimizers.Adam(learning_rate=0.0001),\n",
    "              metrics=['accuracy'])\n",
    "\n",
    "history = model.fit(train_dataset, epochs=10)\n",
    "pred = model.predict(X_test)\n",
    "\n",
    "predictions = tf.nn.sigmoid(pred).numpy()\n",
    "\n",
    "binary_predictions = np.where(predictions >= 0.5, 1, 0)\n",
    "\n",
    "ids = test['id']\n",
    "\n",
    "output_df = pd.DataFrame({\n",
    "    'id':ids,\n",
    "    'target': binary_predictions.flatten()  \n",
    "})\n",
    "output_file_path = '/kaggle/working/submissionLowVocab.csv'\n",
    "output_df.to_csv(output_file_path, index=False)"
   ]
  },
  {
   "cell_type": "markdown",
   "id": "4a5df616",
   "metadata": {
    "papermill": {
     "duration": 0.409899,
     "end_time": "2024-10-13T22:33:04.131664",
     "exception": false,
     "start_time": "2024-10-13T22:33:03.721765",
     "status": "completed"
    },
    "tags": []
   },
   "source": [
    "Let's see if some additional feature engineering could give us better results. We have a keyword column that so far has not been used by our model. Let's try affixing the keyword to the beginning of the text (almost like a headline), and see if our model can get any added learning from that. We have a relatively small number of records with no keyword - we'll fill those with the string 'NA.'"
   ]
  },
  {
   "cell_type": "code",
   "execution_count": 19,
   "id": "0236653d",
   "metadata": {
    "execution": {
     "iopub.execute_input": "2024-10-13T22:33:04.953915Z",
     "iopub.status.busy": "2024-10-13T22:33:04.953502Z",
     "iopub.status.idle": "2024-10-13T22:34:32.224510Z",
     "shell.execute_reply": "2024-10-13T22:34:32.223143Z"
    },
    "papermill": {
     "duration": 87.683455,
     "end_time": "2024-10-13T22:34:32.227296",
     "exception": false,
     "start_time": "2024-10-13T22:33:04.543841",
     "status": "completed"
    },
    "tags": []
   },
   "outputs": [
    {
     "name": "stdout",
     "output_type": "stream",
     "text": [
      "Epoch 1/10\n",
      "\u001b[1m238/238\u001b[0m \u001b[32m━━━━━━━━━━━━━━━━━━━━\u001b[0m\u001b[37m\u001b[0m \u001b[1m16s\u001b[0m 30ms/step - accuracy: 0.5968 - loss: 0.6906\n",
      "Epoch 2/10\n",
      "\u001b[1m238/238\u001b[0m \u001b[32m━━━━━━━━━━━━━━━━━━━━\u001b[0m\u001b[37m\u001b[0m \u001b[1m8s\u001b[0m 32ms/step - accuracy: 0.6023 - loss: 0.6650\n",
      "Epoch 3/10\n",
      "\u001b[1m238/238\u001b[0m \u001b[32m━━━━━━━━━━━━━━━━━━━━\u001b[0m\u001b[37m\u001b[0m \u001b[1m7s\u001b[0m 30ms/step - accuracy: 0.7870 - loss: 0.4840\n",
      "Epoch 4/10\n",
      "\u001b[1m238/238\u001b[0m \u001b[32m━━━━━━━━━━━━━━━━━━━━\u001b[0m\u001b[37m\u001b[0m \u001b[1m7s\u001b[0m 30ms/step - accuracy: 0.8271 - loss: 0.4039\n",
      "Epoch 5/10\n",
      "\u001b[1m238/238\u001b[0m \u001b[32m━━━━━━━━━━━━━━━━━━━━\u001b[0m\u001b[37m\u001b[0m \u001b[1m7s\u001b[0m 30ms/step - accuracy: 0.8456 - loss: 0.3692\n",
      "Epoch 6/10\n",
      "\u001b[1m238/238\u001b[0m \u001b[32m━━━━━━━━━━━━━━━━━━━━\u001b[0m\u001b[37m\u001b[0m \u001b[1m7s\u001b[0m 30ms/step - accuracy: 0.8613 - loss: 0.3449\n",
      "Epoch 7/10\n",
      "\u001b[1m238/238\u001b[0m \u001b[32m━━━━━━━━━━━━━━━━━━━━\u001b[0m\u001b[37m\u001b[0m \u001b[1m10s\u001b[0m 31ms/step - accuracy: 0.8707 - loss: 0.3255\n",
      "Epoch 8/10\n",
      "\u001b[1m238/238\u001b[0m \u001b[32m━━━━━━━━━━━━━━━━━━━━\u001b[0m\u001b[37m\u001b[0m \u001b[1m7s\u001b[0m 30ms/step - accuracy: 0.8817 - loss: 0.3091\n",
      "Epoch 9/10\n",
      "\u001b[1m238/238\u001b[0m \u001b[32m━━━━━━━━━━━━━━━━━━━━\u001b[0m\u001b[37m\u001b[0m \u001b[1m7s\u001b[0m 30ms/step - accuracy: 0.8919 - loss: 0.2952\n",
      "Epoch 10/10\n",
      "\u001b[1m238/238\u001b[0m \u001b[32m━━━━━━━━━━━━━━━━━━━━\u001b[0m\u001b[37m\u001b[0m \u001b[1m7s\u001b[0m 31ms/step - accuracy: 0.8960 - loss: 0.2836\n",
      "\u001b[1m102/102\u001b[0m \u001b[32m━━━━━━━━━━━━━━━━━━━━\u001b[0m\u001b[37m\u001b[0m \u001b[1m3s\u001b[0m 17ms/step\n"
     ]
    }
   ],
   "source": [
    "encoder = tf.keras.layers.TextVectorization(max_tokens=2000)\n",
    "\n",
    "train['keyword'] = train['keyword'].fillna('NA')\n",
    "test['keyword'] = test['keyword'].fillna('NA')\n",
    "\n",
    "train['concatenated_text'] = train['keyword'] + ' ' + train['text']\n",
    "test['concatenated_text'] = test['keyword'] + ' ' + test['text']\n",
    "encoder.adapt(train['text'].values)\n",
    "\n",
    "X_train = np.array(train['concatenated_text']) \n",
    "y_train = np.array(train['target']) \n",
    "\n",
    "train_dataset = tf.data.Dataset.from_tensor_slices((X_train, y_train))\n",
    "train_dataset = train_dataset.batch(32)\n",
    "\n",
    "\n",
    "X_test = np.array(test['concatenated_text'])\n",
    "test_dataset = tf.data.Dataset.from_tensor_slices(X_test)\n",
    "test_dataset = test_dataset.batch(32)\n",
    "\n",
    "model = tf.keras.Sequential([\n",
    "    tf.keras.Input(shape=(1,),dtype=tf.string),\n",
    "    encoder,\n",
    "    tf.keras.layers.Embedding(\n",
    "        input_dim=len(encoder.get_vocabulary()),  \n",
    "        output_dim=64,\n",
    "        mask_zero=True \n",
    "    ),\n",
    "    tf.keras.layers.Bidirectional(tf.keras.layers.LSTM(64, return_sequences=True)),\n",
    "    tf.keras.layers.Bidirectional(tf.keras.layers.LSTM(64)),\n",
    "    tf.keras.layers.Dense(64, activation='relu'),\n",
    "    tf.keras.layers.Dense(1)  \n",
    "])\n",
    "\n",
    "model.compile(loss=tf.keras.losses.BinaryCrossentropy(from_logits=True),\n",
    "              optimizer=tf.keras.optimizers.Adam(learning_rate=0.0001),\n",
    "              metrics=['accuracy'])\n",
    "\n",
    "history = model.fit(train_dataset, epochs=10)\n",
    "pred = model.predict(X_test)\n",
    "\n",
    "predictions = tf.nn.sigmoid(pred).numpy()\n",
    "\n",
    "binary_predictions = np.where(predictions >= 0.5, 1, 0)\n",
    "\n",
    "ids = test['id']\n",
    "\n",
    "output_df = pd.DataFrame({\n",
    "    'id':ids,\n",
    "    'target': binary_predictions.flatten()  \n",
    "})\n",
    "output_file_path = '/kaggle/working/submissionG.csv'\n",
    "output_df.to_csv(output_file_path, index=False)"
   ]
  },
  {
   "cell_type": "markdown",
   "id": "8fd54310",
   "metadata": {
    "papermill": {
     "duration": 0.547753,
     "end_time": "2024-10-13T22:34:33.267707",
     "exception": false,
     "start_time": "2024-10-13T22:34:32.719954",
     "status": "completed"
    },
    "tags": []
   },
   "source": [
    "The results for the various architectures and hyperparameters are below:"
   ]
  },
  {
   "cell_type": "markdown",
   "id": "9912613f",
   "metadata": {
    "papermill": {
     "duration": 0.494008,
     "end_time": "2024-10-13T22:34:34.250245",
     "exception": false,
     "start_time": "2024-10-13T22:34:33.756237",
     "status": "completed"
    },
    "tags": []
   },
   "source": [
    "Vocab Size = 5000, Learning Rate = 0.0001, One Bidirectional Layer, LSTM architecture: 0.771  \n",
    "Vocab Size = 5000, Learning Rate = 0.001, One Bidirectional Layer, LSTM architecture: 0.748  \n",
    "Vocab Size = 10000, Learning Rate = 0.001, One Bidirectional Layer, LSTM architecture: 0.750 \n",
    "Vocab Size = 10000, Learning Rate = 0.0001, One Bidirectional Layer, LSTM architecture:0.767   \n",
    "Vocab Size = 5000, Learning Rate = 0.0001, Two Bidirectional Layes, LSTM architecture:0.765    \n",
    "Vocab Size = 5000, Learning Rate = 0.0001, One Bidirectional Layer, GRU architecture: 0.774    \n",
    "Vocab Size = 5000, Learning Rate = 0.0001, One Bidirectional Layer, LSTM architecture, incorporating keywords: 0.768\n",
    "Vocab Size = 2000, Learning Rate = 0.0001, One Bidirectional Layer, LSTM architecture, incorporating keywords: 0.772"
   ]
  },
  {
   "cell_type": "markdown",
   "id": "5a019b52",
   "metadata": {
    "papermill": {
     "duration": 0.486513,
     "end_time": "2024-10-13T22:34:35.285288",
     "exception": false,
     "start_time": "2024-10-13T22:34:34.798775",
     "status": "completed"
    },
    "tags": []
   },
   "source": [
    "Looking at some of the results, it seems most entrants struggled to get their models at significantly higher than 80% accurate. We wanted to get an introduction to RNN's, using the limited training available from the course materials. We had a very sparse dataset with a small number of training samples, as well. If we wanted to improve our accuracy, another angle would be to look into Bidirectional Encoder Representations from Transformers - a language preprocessing training technique. Ideally, we would be using a much larger dataset, too.\n",
    "\n",
    "# References\n",
    "\n",
    "TensorFlow. (n.d.). Text classification with RNNs. TensorFlow. https://www.tensorflow.org/text/tutorials/text_classification_rnn\n",
    "\n",
    "GeeksforGeeks. (2020, November 20). RNN for text classifications in NLP. GeeksforGeeks. https://www.geeksforgeeks.org/rnn-for-text-classifications-in-nlp/\n",
    "\n",
    "Stack Overflow. (2019, April 15). Inconsistency between GRU and RNN implementation. Stack Overflow. https://stackoverflow.com/questions/55831278/inconsistency-between-gru-and-rnn-implementation"
   ]
  }
 ],
 "metadata": {
  "kaggle": {
   "accelerator": "none",
   "dataSources": [
    {
     "databundleVersionId": 869809,
     "sourceId": 17777,
     "sourceType": "competition"
    }
   ],
   "dockerImageVersionId": 30786,
   "isGpuEnabled": false,
   "isInternetEnabled": true,
   "language": "python",
   "sourceType": "notebook"
  },
  "kernelspec": {
   "display_name": "Python 3",
   "language": "python",
   "name": "python3"
  },
  "language_info": {
   "codemirror_mode": {
    "name": "ipython",
    "version": 3
   },
   "file_extension": ".py",
   "mimetype": "text/x-python",
   "name": "python",
   "nbconvert_exporter": "python",
   "pygments_lexer": "ipython3",
   "version": "3.10.14"
  },
  "papermill": {
   "default_parameters": {},
   "duration": 540.947334,
   "end_time": "2024-10-13T22:34:38.865923",
   "environment_variables": {},
   "exception": null,
   "input_path": "__notebook__.ipynb",
   "output_path": "__notebook__.ipynb",
   "parameters": {},
   "start_time": "2024-10-13T22:25:37.918589",
   "version": "2.6.0"
  }
 },
 "nbformat": 4,
 "nbformat_minor": 5
}
